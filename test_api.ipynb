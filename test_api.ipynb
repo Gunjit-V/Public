{
 "cells": [
  {
   "cell_type": "code",
   "execution_count": 3,
   "metadata": {},
   "outputs": [],
   "source": [
    "from cred import *\n",
    "from config import *\n",
    "from api_helper import ShoonyaApiPy\n",
    "from SmartApi import SmartConnect"
   ]
  },
  {
   "cell_type": "code",
   "execution_count": 4,
   "metadata": {},
   "outputs": [],
   "source": [
    "angel_obj = SmartConnect(angel_apikey)\n",
    "data = angel_obj.generateSession(\n",
    "    angel_clientId, angel_password, pyotp.TOTP(angel_otp_token).now())\n",
    "refreshToken = data['data']['refreshToken']  # type: ignore\n",
    "FEED_TOKEN = angel_obj.getfeedToken()\n",
    "user_details = angel_obj.getProfile(refreshToken)\n",
    "\n",
    "# Shoonya Login\n",
    "\n",
    "api = ShoonyaApiPy()\n",
    "try:\n",
    "    obj = api.login(userid=user_id, password=password, twoFA=twoFA,\n",
    "                    vendor_code=vendor_code, api_secret=api_key, imei=imei)\n",
    "except Exception as e:\n",
    "    print(e)"
   ]
  },
  {
   "cell_type": "code",
   "execution_count": null,
   "metadata": {},
   "outputs": [],
   "source": []
  }
 ],
 "metadata": {
  "kernelspec": {
   "display_name": "Python 3",
   "language": "python",
   "name": "python3"
  },
  "language_info": {
   "codemirror_mode": {
    "name": "ipython",
    "version": 3
   },
   "file_extension": ".py",
   "mimetype": "text/x-python",
   "name": "python",
   "nbconvert_exporter": "python",
   "pygments_lexer": "ipython3",
   "version": "3.11.2"
  },
  "orig_nbformat": 4
 },
 "nbformat": 4,
 "nbformat_minor": 2
}
